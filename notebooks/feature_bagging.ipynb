{
 "cells": [
  {
   "cell_type": "markdown",
   "id": "8e7d2200",
   "metadata": {},
   "source": [
    "# **Feature Bagging for Outlier Detection**"
   ]
  },
  {
   "cell_type": "markdown",
   "id": "c7496120",
   "metadata": {},
   "source": [
    "El algoritmo de **Feature Bagging** es una técnica de aprendizaje automático que combina múltiples modelos para mejorar la precisión y robustez de las predicciones. A diferencia del **Bagging** tradicional, que se basa en la creación de subconjuntos aleatorios de datos, el **Feature Bagging** se centra en la selección aleatoria de características (*features*) para entrenar cada modelo.\n",
    "\n",
    "\n",
    "De aqui se basa el **Feature Bagging** para la detección de anomalías o *outliers*, que utiliza múltiples modelos entrenados en subconjuntos aleatorios de características o *features* . Dado que muchas técnicas de detección de valores atípicos que calculan distancias dimensionales completas también son de naturaleza local, son sensibles a la selección de características utilizadas en el cálculo de distancias. Además, la presencia de características ruidosas e irrelevantes puede reducir significativamente el rendimiento de la detección de valores atípicos , el ensablaje de múltiples modelos entrenados en subconjuntos aleatorios de características puede ayudar a mitigar este problema , ademas , brindando dos formas de agregación de los factores de decisión mas acorde al problema"
   ]
  },
  {
   "cell_type": "markdown",
   "id": "3eb9a224",
   "metadata": {},
   "source": [
    "## Implementación\n",
    "La implementación realizada en *PyOD_ADGE* , se baso unicamente en el uso del algoritmo de *Local Outlier Factor* (*LOF*) como modelo base, pero , se debe destacar que eso no impide que se pueda extender a otros algoritmos de detección de anomalías. El algoritmo de *LOF* es un método basado en la densidad que mide la densidad local de un punto en comparación con sus vecinos cercanos. Se utiliza comúnmente para detectar puntos atípicos en conjuntos de datos multidimensionales. \n",
    "\n",
    "El modelo base , tiene tal cual sus tres modos :\n",
    "- ```classic``` : sigue el método propuesto en el paper original\n",
    "- ```optimize``` : método clasico , pero , optimizando la busqueda de *k-neighbors* paralizando el proceso\n",
    "- ```sklearn``` : utiliza el modelo de *sklearn* para la detección de anomalías ```sklearn.neighbors.LocalOutlierFactor```\n",
    "\n",
    "### Hiperparámetros\n",
    "| Parámetro         | Tipo                  | Valor por defecto | Descripción                                                                                               |\n",
    "|-------------------|-----------------------|-------------------|-----------------------------------------------------------------------------------------------------------|\n",
    "| `base_estimator`  | `str`                 | `'classic'`       | Tipo de implementació­n de LOF a usar:  `classic` = propia versión,  `sklearn` = la de scikit-learn.     |\n",
    "| `n_estimators`    | `int`                 | `10`              | Número de “sub-modelos” (estimadores) a entrenar sobre distintos subconjuntos de features.                 |\n",
    "| `contamination`   | `float`               | `0.1`             | Proporción esperada de outliers en los datos (entre 0 y 0.5).                                             |\n",
    "| `combine`         | `str`                 | `'breadth'`       | Método para combinar los scores de los estimadores:  `'breadth'` (breadth-first ranking) o `'Cumulative'`.|\n",
    "| `n_jobs`          | `int`                 | `2`               | Número de procesos paralelos para el entrenamiento (`joblib.Parallel`).                                   |\n",
    "| `random_state`    | `int` or `None`       | `None`            | Semilla inicial para el generador de números aleatorios; asegura reproducibilidad.                       |\n",
    "| `n_neighbors`     | `int`                 | `20`              | Parámetro *k* de LOF: número de vecinos a considerar para calcular la densidad local / outlier score.     |\n",
    "| `metric`          | `str`                 | `'euclidean'`     | Métrica de distancia a usar en LOF (p.ej. `'euclidean'`, `'manhattan'`, etc.).                            |\n",
    "| `metric_params`   | `dict`                | `{}`              | Parámetros adicionales específicos de la métrica (e.g. `p` para `'minkowski'`, etc.).                     |\n"
   ]
  },
  {
   "cell_type": "markdown",
   "id": "6eb05c5d",
   "metadata": {},
   "source": [
    "## Demo \n",
    "Para mostrar el funcionamiento del algoritmo , se usara el dataset [Dataset de Credit Card Fraud de Kaggle](https://www.kaggle.com/datasets/dhanushnarayananr/credit-card-fraud) , que contiene transacciones de tarjetas de crédito, donde la mayoría son transacciones legítimas y una pequeña fracción son fraudulentas. El objetivo es detectar estas transacciones fraudulentas (outliers) en función de las características de las transacciones."
   ]
  },
  {
   "cell_type": "markdown",
   "id": "39ad7794",
   "metadata": {},
   "source": [
    "### Cargar librerías necesarias\n"
   ]
  },
  {
   "cell_type": "code",
   "execution_count": 1,
   "id": "ed0df1fe",
   "metadata": {},
   "outputs": [],
   "source": [
    "import numpy as np\n",
    "import matplotlib.pyplot as plt\n",
    "import seaborn as sns\n",
    "from sklearn.model_selection import train_test_split\n",
    "import pandas as pd\n",
    "import seaborn as sns\n",
    "import sys, os\n",
    "\n",
    "proj_root = os.path.abspath(os.path.join(os.getcwd(), os.pardir))\n",
    "if proj_root not in sys.path:\n",
    "    sys.path.insert(0, proj_root)\n",
    "    \n",
    "from PyOD_ADGE.models.feature_bagging import FeatureBagging"
   ]
  },
  {
   "cell_type": "markdown",
   "id": "519aee89",
   "metadata": {},
   "source": [
    "### Cargando el dataset\n",
    "Se tomara un muestra estratificada de 10000 filas del dataset, pero se puede usar el dataset completo sin problemas, ya que el algoritmo es escalable y no tiene problemas de memoria. "
   ]
  },
  {
   "cell_type": "code",
   "execution_count": 2,
   "id": "b7e4f94e",
   "metadata": {},
   "outputs": [
    {
     "data": {
      "application/vnd.microsoft.datawrangler.viewer.v0+json": {
       "columns": [
        {
         "name": "index",
         "rawType": "int64",
         "type": "integer"
        },
        {
         "name": "distance_from_home",
         "rawType": "float64",
         "type": "float"
        },
        {
         "name": "distance_from_last_transaction",
         "rawType": "float64",
         "type": "float"
        },
        {
         "name": "ratio_to_median_purchase_price",
         "rawType": "float64",
         "type": "float"
        },
        {
         "name": "repeat_retailer",
         "rawType": "float64",
         "type": "float"
        },
        {
         "name": "used_chip",
         "rawType": "float64",
         "type": "float"
        },
        {
         "name": "used_pin_number",
         "rawType": "float64",
         "type": "float"
        },
        {
         "name": "online_order",
         "rawType": "float64",
         "type": "float"
        },
        {
         "name": "fraud",
         "rawType": "float64",
         "type": "float"
        }
       ],
       "conversionMethod": "pd.DataFrame",
       "ref": "bb66dbfa-e537-4772-83e2-1dac135565c2",
       "rows": [
        [
         "0",
         "57.87785658389723",
         "0.3111400080477545",
         "1.9459399775518595",
         "1.0",
         "1.0",
         "0.0",
         "0.0",
         "0.0"
        ],
        [
         "1",
         "10.829942699255543",
         "0.1755915022816658",
         "1.294218810619857",
         "1.0",
         "0.0",
         "0.0",
         "0.0",
         "0.0"
        ],
        [
         "2",
         "5.091079490616996",
         "0.8051525945853258",
         "0.4277145611942758",
         "1.0",
         "0.0",
         "0.0",
         "1.0",
         "0.0"
        ],
        [
         "3",
         "2.2475643282963613",
         "5.60004354707232",
         "0.3626625780570958",
         "1.0",
         "1.0",
         "0.0",
         "1.0",
         "0.0"
        ],
        [
         "4",
         "44.19093600261837",
         "0.5664862680583477",
         "2.2227672978404707",
         "1.0",
         "1.0",
         "0.0",
         "1.0",
         "0.0"
        ]
       ],
       "shape": {
        "columns": 8,
        "rows": 5
       }
      },
      "text/html": [
       "<div>\n",
       "<style scoped>\n",
       "    .dataframe tbody tr th:only-of-type {\n",
       "        vertical-align: middle;\n",
       "    }\n",
       "\n",
       "    .dataframe tbody tr th {\n",
       "        vertical-align: top;\n",
       "    }\n",
       "\n",
       "    .dataframe thead th {\n",
       "        text-align: right;\n",
       "    }\n",
       "</style>\n",
       "<table border=\"1\" class=\"dataframe\">\n",
       "  <thead>\n",
       "    <tr style=\"text-align: right;\">\n",
       "      <th></th>\n",
       "      <th>distance_from_home</th>\n",
       "      <th>distance_from_last_transaction</th>\n",
       "      <th>ratio_to_median_purchase_price</th>\n",
       "      <th>repeat_retailer</th>\n",
       "      <th>used_chip</th>\n",
       "      <th>used_pin_number</th>\n",
       "      <th>online_order</th>\n",
       "      <th>fraud</th>\n",
       "    </tr>\n",
       "  </thead>\n",
       "  <tbody>\n",
       "    <tr>\n",
       "      <th>0</th>\n",
       "      <td>57.877857</td>\n",
       "      <td>0.311140</td>\n",
       "      <td>1.945940</td>\n",
       "      <td>1.0</td>\n",
       "      <td>1.0</td>\n",
       "      <td>0.0</td>\n",
       "      <td>0.0</td>\n",
       "      <td>0.0</td>\n",
       "    </tr>\n",
       "    <tr>\n",
       "      <th>1</th>\n",
       "      <td>10.829943</td>\n",
       "      <td>0.175592</td>\n",
       "      <td>1.294219</td>\n",
       "      <td>1.0</td>\n",
       "      <td>0.0</td>\n",
       "      <td>0.0</td>\n",
       "      <td>0.0</td>\n",
       "      <td>0.0</td>\n",
       "    </tr>\n",
       "    <tr>\n",
       "      <th>2</th>\n",
       "      <td>5.091079</td>\n",
       "      <td>0.805153</td>\n",
       "      <td>0.427715</td>\n",
       "      <td>1.0</td>\n",
       "      <td>0.0</td>\n",
       "      <td>0.0</td>\n",
       "      <td>1.0</td>\n",
       "      <td>0.0</td>\n",
       "    </tr>\n",
       "    <tr>\n",
       "      <th>3</th>\n",
       "      <td>2.247564</td>\n",
       "      <td>5.600044</td>\n",
       "      <td>0.362663</td>\n",
       "      <td>1.0</td>\n",
       "      <td>1.0</td>\n",
       "      <td>0.0</td>\n",
       "      <td>1.0</td>\n",
       "      <td>0.0</td>\n",
       "    </tr>\n",
       "    <tr>\n",
       "      <th>4</th>\n",
       "      <td>44.190936</td>\n",
       "      <td>0.566486</td>\n",
       "      <td>2.222767</td>\n",
       "      <td>1.0</td>\n",
       "      <td>1.0</td>\n",
       "      <td>0.0</td>\n",
       "      <td>1.0</td>\n",
       "      <td>0.0</td>\n",
       "    </tr>\n",
       "  </tbody>\n",
       "</table>\n",
       "</div>"
      ],
      "text/plain": [
       "   distance_from_home  distance_from_last_transaction  \\\n",
       "0           57.877857                        0.311140   \n",
       "1           10.829943                        0.175592   \n",
       "2            5.091079                        0.805153   \n",
       "3            2.247564                        5.600044   \n",
       "4           44.190936                        0.566486   \n",
       "\n",
       "   ratio_to_median_purchase_price  repeat_retailer  used_chip  \\\n",
       "0                        1.945940              1.0        1.0   \n",
       "1                        1.294219              1.0        0.0   \n",
       "2                        0.427715              1.0        0.0   \n",
       "3                        0.362663              1.0        1.0   \n",
       "4                        2.222767              1.0        1.0   \n",
       "\n",
       "   used_pin_number  online_order  fraud  \n",
       "0              0.0           0.0    0.0  \n",
       "1              0.0           0.0    0.0  \n",
       "2              0.0           1.0    0.0  \n",
       "3              0.0           1.0    0.0  \n",
       "4              0.0           1.0    0.0  "
      ]
     },
     "execution_count": 2,
     "metadata": {},
     "output_type": "execute_result"
    }
   ],
   "source": [
    "url_data='https://drive.google.com/uc?export=download&id=1jGJ-Bam7dR9vH4Y6-677LNNpW-PulLfL'\n",
    "data=pd.read_csv(url_data,header=0)\n",
    "data.head()"
   ]
  },
  {
   "cell_type": "code",
   "execution_count": 3,
   "id": "bb0d52b1",
   "metadata": {},
   "outputs": [
    {
     "data": {
      "text/plain": [
       "(1000000, 8)"
      ]
     },
     "execution_count": 3,
     "metadata": {},
     "output_type": "execute_result"
    }
   ],
   "source": [
    "data.shape"
   ]
  },
  {
   "cell_type": "code",
   "execution_count": 4,
   "id": "5ea25188",
   "metadata": {},
   "outputs": [
    {
     "data": {
      "text/plain": [
       "fraud\n",
       "0    912597\n",
       "1     87403\n",
       "Name: count, dtype: int64"
      ]
     },
     "execution_count": 4,
     "metadata": {},
     "output_type": "execute_result"
    }
   ],
   "source": [
    "data['fraud']=data['fraud'].astype(np.int8)\n",
    "data['fraud'].value_counts()"
   ]
  },
  {
   "cell_type": "code",
   "execution_count": 5,
   "id": "edc42a1e",
   "metadata": {},
   "outputs": [],
   "source": [
    "X_f=data.drop(['fraud'],axis=1)\n",
    "y_f=data['fraud']\n",
    "X,_,y,_= train_test_split(X_f,y_f,stratify=y_f,train_size=500,random_state=42)"
   ]
  },
  {
   "cell_type": "code",
   "execution_count": 6,
   "id": "78e8b964",
   "metadata": {},
   "outputs": [
    {
     "data": {
      "text/plain": [
       "fraud\n",
       "0    456\n",
       "1     44\n",
       "Name: count, dtype: int64"
      ]
     },
     "execution_count": 6,
     "metadata": {},
     "output_type": "execute_result"
    }
   ],
   "source": [
    "y.value_counts()"
   ]
  },
  {
   "cell_type": "code",
   "execution_count": 7,
   "id": "ede54ed3",
   "metadata": {},
   "outputs": [
    {
     "data": {
      "application/vnd.microsoft.datawrangler.viewer.v0+json": {
       "columns": [
        {
         "name": "index",
         "rawType": "int64",
         "type": "integer"
        },
        {
         "name": "distance_from_home",
         "rawType": "float64",
         "type": "float"
        },
        {
         "name": "distance_from_last_transaction",
         "rawType": "float64",
         "type": "float"
        },
        {
         "name": "ratio_to_median_purchase_price",
         "rawType": "float64",
         "type": "float"
        },
        {
         "name": "repeat_retailer",
         "rawType": "float64",
         "type": "float"
        },
        {
         "name": "used_chip",
         "rawType": "float64",
         "type": "float"
        },
        {
         "name": "used_pin_number",
         "rawType": "float64",
         "type": "float"
        },
        {
         "name": "online_order",
         "rawType": "float64",
         "type": "float"
        }
       ],
       "conversionMethod": "pd.DataFrame",
       "ref": "21cff7ff-496c-4e41-a852-37bb0b1d38d0",
       "rows": [
        [
         "416902",
         "10.9301262661959",
         "1.596463112279284",
         "2.1210414455036872",
         "1.0",
         "0.0",
         "0.0",
         "1.0"
        ],
        [
         "766025",
         "8.344195181445407",
         "0.0690989648131381",
         "0.7247664809421774",
         "1.0",
         "0.0",
         "0.0",
         "1.0"
        ],
        [
         "9934",
         "33.7963450148128",
         "0.0915382778387232",
         "0.7337124022129301",
         "1.0",
         "0.0",
         "0.0",
         "0.0"
        ],
        [
         "695805",
         "5.049464382390465",
         "8.951985563759804",
         "1.0744919949298004",
         "1.0",
         "1.0",
         "1.0",
         "0.0"
        ],
        [
         "933740",
         "3.4889852125536813",
         "0.3840122977441951",
         "7.482144375528782",
         "1.0",
         "0.0",
         "0.0",
         "1.0"
        ],
        [
         "546656",
         "11.181141162133194",
         "2.938613972134469",
         "0.9468417052005909",
         "1.0",
         "1.0",
         "0.0",
         "1.0"
        ],
        [
         "979136",
         "2.623913949309284",
         "0.7617141279166822",
         "0.4065325274166745",
         "1.0",
         "0.0",
         "0.0",
         "1.0"
        ],
        [
         "180086",
         "0.9086865565109316",
         "2.7450632458033115",
         "1.445239725644179",
         "0.0",
         "0.0",
         "0.0",
         "1.0"
        ],
        [
         "488057",
         "11.663746106772573",
         "0.4952410853190941",
         "0.2808356723182856",
         "1.0",
         "1.0",
         "0.0",
         "1.0"
        ],
        [
         "27937",
         "17.34012824635613",
         "4.01413360283764",
         "0.2044700752788613",
         "1.0",
         "0.0",
         "0.0",
         "1.0"
        ],
        [
         "602248",
         "96.66937193815724",
         "0.8234613314452852",
         "0.1382304156919652",
         "1.0",
         "0.0",
         "0.0",
         "1.0"
        ],
        [
         "411375",
         "0.8801247738751982",
         "0.2371736277435056",
         "4.581430953620611",
         "0.0",
         "1.0",
         "0.0",
         "1.0"
        ],
        [
         "719874",
         "5.144623863474538",
         "0.1430546161854457",
         "0.2212147510864534",
         "1.0",
         "1.0",
         "1.0",
         "1.0"
        ],
        [
         "970183",
         "61.444014829337306",
         "3.414339942323338",
         "1.3827443355198308",
         "1.0",
         "0.0",
         "0.0",
         "0.0"
        ],
        [
         "780682",
         "12.69707239990406",
         "2.18053119458017",
         "1.3957045783330335",
         "1.0",
         "1.0",
         "0.0",
         "1.0"
        ],
        [
         "880710",
         "24.82059964289266",
         "0.1793590900491654",
         "0.474469312577687",
         "1.0",
         "1.0",
         "0.0",
         "1.0"
        ],
        [
         "908550",
         "5.692090142401743",
         "1.4164739356634315",
         "1.3686267800032943",
         "1.0",
         "0.0",
         "0.0",
         "1.0"
        ],
        [
         "828382",
         "33.67309632292945",
         "1.921203352673452",
         "2.5885329884544923",
         "1.0",
         "1.0",
         "0.0",
         "1.0"
        ],
        [
         "528352",
         "1.6967474756642216",
         "2.0755235528469207",
         "2.6691266803815004",
         "0.0",
         "0.0",
         "0.0",
         "1.0"
        ],
        [
         "820182",
         "6.61951323515339",
         "0.7115401649160963",
         "0.5904540291237983",
         "1.0",
         "1.0",
         "0.0",
         "0.0"
        ],
        [
         "99400",
         "27.61007423899108",
         "1.9248750360918567",
         "0.8002174129180691",
         "1.0",
         "0.0",
         "0.0",
         "1.0"
        ],
        [
         "191749",
         "210.1829933229511",
         "7.474135838654596",
         "0.526407650879889",
         "1.0",
         "0.0",
         "0.0",
         "1.0"
        ],
        [
         "818364",
         "46.06003570909208",
         "1.8726446528509064",
         "6.755512975261115",
         "1.0",
         "1.0",
         "0.0",
         "1.0"
        ],
        [
         "508556",
         "51.55415314259221",
         "3.081552859277521",
         "3.8850238206338585",
         "1.0",
         "1.0",
         "0.0",
         "1.0"
        ],
        [
         "419043",
         "43.68001663145097",
         "0.1109106325258211",
         "0.6359800905044393",
         "1.0",
         "0.0",
         "0.0",
         "0.0"
        ],
        [
         "34198",
         "1.1159612576581095",
         "8.614094651380682",
         "1.1105593786634065",
         "0.0",
         "1.0",
         "0.0",
         "1.0"
        ],
        [
         "714877",
         "16.231872851463613",
         "0.0921015264773587",
         "0.5412140545276085",
         "1.0",
         "0.0",
         "0.0",
         "1.0"
        ],
        [
         "849554",
         "136.06051156954462",
         "1.0185524944488438",
         "0.6355809420660772",
         "1.0",
         "1.0",
         "0.0",
         "1.0"
        ],
        [
         "322874",
         "5.075195308027366",
         "0.18114208121255",
         "1.098670789290188",
         "1.0",
         "1.0",
         "0.0",
         "1.0"
        ],
        [
         "505319",
         "21.826229879422552",
         "0.6201757315245887",
         "1.7752396539967263",
         "1.0",
         "0.0",
         "1.0",
         "1.0"
        ],
        [
         "38169",
         "24.805081407214058",
         "2.9784611783661057",
         "3.168946663885121",
         "1.0",
         "0.0",
         "0.0",
         "1.0"
        ],
        [
         "671241",
         "54.31528320589533",
         "1.338107329743828",
         "1.249167871776127",
         "1.0",
         "1.0",
         "0.0",
         "1.0"
        ],
        [
         "979748",
         "89.7704978390737",
         "0.542416914800593",
         "0.6737401589114193",
         "1.0",
         "0.0",
         "0.0",
         "1.0"
        ],
        [
         "677677",
         "33.080126154097535",
         "0.1636428976057972",
         "3.5210437627900237",
         "1.0",
         "1.0",
         "0.0",
         "0.0"
        ],
        [
         "17815",
         "18.20021477820365",
         "0.2544238624109078",
         "0.4363101882548587",
         "1.0",
         "0.0",
         "0.0",
         "1.0"
        ],
        [
         "39447",
         "17.13500476312395",
         "0.9350721590206462",
         "0.3974482369118646",
         "1.0",
         "1.0",
         "0.0",
         "1.0"
        ],
        [
         "598246",
         "61.72129826175788",
         "0.946501280437721",
         "4.67393792680959",
         "1.0",
         "0.0",
         "0.0",
         "0.0"
        ],
        [
         "651483",
         "11.846619053039843",
         "2.2019123873314537",
         "0.4392809149266219",
         "1.0",
         "0.0",
         "0.0",
         "1.0"
        ],
        [
         "612718",
         "1.947585236702796",
         "0.03918934737351",
         "3.2558324704867223",
         "1.0",
         "1.0",
         "0.0",
         "1.0"
        ],
        [
         "569895",
         "13.71678768252897",
         "2.7640048000661745",
         "3.3840436018193536",
         "1.0",
         "0.0",
         "0.0",
         "0.0"
        ],
        [
         "904281",
         "41.13608658041011",
         "0.7908206412558717",
         "0.299082073582302",
         "1.0",
         "1.0",
         "0.0",
         "0.0"
        ],
        [
         "622116",
         "27.348382536117423",
         "0.3424973459922135",
         "0.6814297052064229",
         "1.0",
         "0.0",
         "0.0",
         "0.0"
        ],
        [
         "279240",
         "522.7291706832842",
         "6.023844196448028",
         "0.1244994544310563",
         "1.0",
         "1.0",
         "0.0",
         "0.0"
        ],
        [
         "118417",
         "4.19565696621394",
         "1.1628458898778211",
         "0.3628650645885343",
         "1.0",
         "0.0",
         "0.0",
         "1.0"
        ],
        [
         "480899",
         "1.2160608106884652",
         "0.5176316558818842",
         "1.2680528546452727",
         "0.0",
         "1.0",
         "0.0",
         "0.0"
        ],
        [
         "438740",
         "17.696241612391923",
         "8.742947918857752",
         "2.631347448859079",
         "1.0",
         "0.0",
         "0.0",
         "1.0"
        ],
        [
         "319213",
         "21.51736457389059",
         "0.3149558609548969",
         "0.6619815201336637",
         "1.0",
         "0.0",
         "0.0",
         "0.0"
        ],
        [
         "397165",
         "21.166938370738396",
         "0.2978388536489813",
         "0.6432862575483571",
         "1.0",
         "1.0",
         "0.0",
         "0.0"
        ],
        [
         "227420",
         "29.560863698176178",
         "0.2648511892077326",
         "1.83873885434464",
         "1.0",
         "1.0",
         "0.0",
         "1.0"
        ],
        [
         "886369",
         "30.327089903719035",
         "22.537408660213103",
         "0.2982823986434046",
         "1.0",
         "0.0",
         "1.0",
         "1.0"
        ]
       ],
       "shape": {
        "columns": 7,
        "rows": 500
       }
      },
      "text/html": [
       "<div>\n",
       "<style scoped>\n",
       "    .dataframe tbody tr th:only-of-type {\n",
       "        vertical-align: middle;\n",
       "    }\n",
       "\n",
       "    .dataframe tbody tr th {\n",
       "        vertical-align: top;\n",
       "    }\n",
       "\n",
       "    .dataframe thead th {\n",
       "        text-align: right;\n",
       "    }\n",
       "</style>\n",
       "<table border=\"1\" class=\"dataframe\">\n",
       "  <thead>\n",
       "    <tr style=\"text-align: right;\">\n",
       "      <th></th>\n",
       "      <th>distance_from_home</th>\n",
       "      <th>distance_from_last_transaction</th>\n",
       "      <th>ratio_to_median_purchase_price</th>\n",
       "      <th>repeat_retailer</th>\n",
       "      <th>used_chip</th>\n",
       "      <th>used_pin_number</th>\n",
       "      <th>online_order</th>\n",
       "    </tr>\n",
       "  </thead>\n",
       "  <tbody>\n",
       "    <tr>\n",
       "      <th>416902</th>\n",
       "      <td>10.930126</td>\n",
       "      <td>1.596463</td>\n",
       "      <td>2.121041</td>\n",
       "      <td>1.0</td>\n",
       "      <td>0.0</td>\n",
       "      <td>0.0</td>\n",
       "      <td>1.0</td>\n",
       "    </tr>\n",
       "    <tr>\n",
       "      <th>766025</th>\n",
       "      <td>8.344195</td>\n",
       "      <td>0.069099</td>\n",
       "      <td>0.724766</td>\n",
       "      <td>1.0</td>\n",
       "      <td>0.0</td>\n",
       "      <td>0.0</td>\n",
       "      <td>1.0</td>\n",
       "    </tr>\n",
       "    <tr>\n",
       "      <th>9934</th>\n",
       "      <td>33.796345</td>\n",
       "      <td>0.091538</td>\n",
       "      <td>0.733712</td>\n",
       "      <td>1.0</td>\n",
       "      <td>0.0</td>\n",
       "      <td>0.0</td>\n",
       "      <td>0.0</td>\n",
       "    </tr>\n",
       "    <tr>\n",
       "      <th>695805</th>\n",
       "      <td>5.049464</td>\n",
       "      <td>8.951986</td>\n",
       "      <td>1.074492</td>\n",
       "      <td>1.0</td>\n",
       "      <td>1.0</td>\n",
       "      <td>1.0</td>\n",
       "      <td>0.0</td>\n",
       "    </tr>\n",
       "    <tr>\n",
       "      <th>933740</th>\n",
       "      <td>3.488985</td>\n",
       "      <td>0.384012</td>\n",
       "      <td>7.482144</td>\n",
       "      <td>1.0</td>\n",
       "      <td>0.0</td>\n",
       "      <td>0.0</td>\n",
       "      <td>1.0</td>\n",
       "    </tr>\n",
       "    <tr>\n",
       "      <th>...</th>\n",
       "      <td>...</td>\n",
       "      <td>...</td>\n",
       "      <td>...</td>\n",
       "      <td>...</td>\n",
       "      <td>...</td>\n",
       "      <td>...</td>\n",
       "      <td>...</td>\n",
       "    </tr>\n",
       "    <tr>\n",
       "      <th>916205</th>\n",
       "      <td>27.465475</td>\n",
       "      <td>0.068865</td>\n",
       "      <td>1.013117</td>\n",
       "      <td>1.0</td>\n",
       "      <td>0.0</td>\n",
       "      <td>0.0</td>\n",
       "      <td>1.0</td>\n",
       "    </tr>\n",
       "    <tr>\n",
       "      <th>560609</th>\n",
       "      <td>14.011734</td>\n",
       "      <td>17.125131</td>\n",
       "      <td>1.319054</td>\n",
       "      <td>1.0</td>\n",
       "      <td>1.0</td>\n",
       "      <td>0.0</td>\n",
       "      <td>1.0</td>\n",
       "    </tr>\n",
       "    <tr>\n",
       "      <th>133072</th>\n",
       "      <td>3.647332</td>\n",
       "      <td>0.126717</td>\n",
       "      <td>50.627553</td>\n",
       "      <td>1.0</td>\n",
       "      <td>0.0</td>\n",
       "      <td>0.0</td>\n",
       "      <td>1.0</td>\n",
       "    </tr>\n",
       "    <tr>\n",
       "      <th>678092</th>\n",
       "      <td>19.852381</td>\n",
       "      <td>1.752303</td>\n",
       "      <td>5.196821</td>\n",
       "      <td>1.0</td>\n",
       "      <td>0.0</td>\n",
       "      <td>0.0</td>\n",
       "      <td>1.0</td>\n",
       "    </tr>\n",
       "    <tr>\n",
       "      <th>21819</th>\n",
       "      <td>4.791197</td>\n",
       "      <td>9.105485</td>\n",
       "      <td>0.359701</td>\n",
       "      <td>1.0</td>\n",
       "      <td>0.0</td>\n",
       "      <td>0.0</td>\n",
       "      <td>1.0</td>\n",
       "    </tr>\n",
       "  </tbody>\n",
       "</table>\n",
       "<p>500 rows × 7 columns</p>\n",
       "</div>"
      ],
      "text/plain": [
       "        distance_from_home  distance_from_last_transaction  \\\n",
       "416902           10.930126                        1.596463   \n",
       "766025            8.344195                        0.069099   \n",
       "9934             33.796345                        0.091538   \n",
       "695805            5.049464                        8.951986   \n",
       "933740            3.488985                        0.384012   \n",
       "...                    ...                             ...   \n",
       "916205           27.465475                        0.068865   \n",
       "560609           14.011734                       17.125131   \n",
       "133072            3.647332                        0.126717   \n",
       "678092           19.852381                        1.752303   \n",
       "21819             4.791197                        9.105485   \n",
       "\n",
       "        ratio_to_median_purchase_price  repeat_retailer  used_chip  \\\n",
       "416902                        2.121041              1.0        0.0   \n",
       "766025                        0.724766              1.0        0.0   \n",
       "9934                          0.733712              1.0        0.0   \n",
       "695805                        1.074492              1.0        1.0   \n",
       "933740                        7.482144              1.0        0.0   \n",
       "...                                ...              ...        ...   \n",
       "916205                        1.013117              1.0        0.0   \n",
       "560609                        1.319054              1.0        1.0   \n",
       "133072                       50.627553              1.0        0.0   \n",
       "678092                        5.196821              1.0        0.0   \n",
       "21819                         0.359701              1.0        0.0   \n",
       "\n",
       "        used_pin_number  online_order  \n",
       "416902              0.0           1.0  \n",
       "766025              0.0           1.0  \n",
       "9934                0.0           0.0  \n",
       "695805              1.0           0.0  \n",
       "933740              0.0           1.0  \n",
       "...                 ...           ...  \n",
       "916205              0.0           1.0  \n",
       "560609              0.0           1.0  \n",
       "133072              0.0           1.0  \n",
       "678092              0.0           1.0  \n",
       "21819               0.0           1.0  \n",
       "\n",
       "[500 rows x 7 columns]"
      ]
     },
     "execution_count": 7,
     "metadata": {},
     "output_type": "execute_result"
    }
   ],
   "source": [
    "X"
   ]
  },
  {
   "cell_type": "markdown",
   "id": "b0d6adbd",
   "metadata": {},
   "source": [
    "### Instanciar el modelo y entrenar\n",
    "Al instanciar el modelo , el método ```fit``` se encargara de realizar el ajuste de los modelos base y el ajuste de los hiperparámetros. \n"
   ]
  },
  {
   "cell_type": "code",
   "execution_count": 8,
   "id": "ece74b52",
   "metadata": {},
   "outputs": [
    {
     "data": {
      "text/plain": [
       "(500, 7)"
      ]
     },
     "execution_count": 8,
     "metadata": {},
     "output_type": "execute_result"
    }
   ],
   "source": [
    "X.shape"
   ]
  },
  {
   "cell_type": "code",
   "execution_count": 9,
   "id": "54cc5e94",
   "metadata": {},
   "outputs": [
    {
     "data": {
      "text/plain": [
       "<PyOD_ADGE.models.feature_bagging.FeatureBagging at 0x258f4d2f3b0>"
      ]
     },
     "execution_count": 9,
     "metadata": {},
     "output_type": "execute_result"
    }
   ],
   "source": [
    "model=FeatureBagging(n_estimators=5,n_jobs=-1,random_state=42)\n",
    "model.fit(X)"
   ]
  },
  {
   "cell_type": "code",
   "execution_count": 25,
   "id": "ea616838",
   "metadata": {},
   "outputs": [
    {
     "data": {
      "text/plain": [
       "array([0.98007693, 0.98309461, 0.98432074, 1.00485978, 1.01045237,\n",
       "       0.98954683, 0.97228137, 1.00324737, 1.01615808, 0.99347962,\n",
       "       1.06310951, 0.9902954 , 0.98601123])"
      ]
     },
     "execution_count": 25,
     "metadata": {},
     "output_type": "execute_result"
    }
   ],
   "source": [
    "model.outlier_factor_[:13]"
   ]
  },
  {
   "cell_type": "code",
   "execution_count": 24,
   "id": "e886bd9c",
   "metadata": {},
   "outputs": [
    {
     "data": {
      "text/plain": [
       "416902    0\n",
       "766025    0\n",
       "9934      0\n",
       "695805    0\n",
       "933740    1\n",
       "546656    0\n",
       "979136    0\n",
       "180086    0\n",
       "488057    0\n",
       "27937     0\n",
       "602248    0\n",
       "411375    1\n",
       "719874    0\n",
       "Name: fraud, dtype: int8"
      ]
     },
     "execution_count": 24,
     "metadata": {},
     "output_type": "execute_result"
    }
   ],
   "source": [
    "y[:13]"
   ]
  }
 ],
 "metadata": {
  "kernelspec": {
   "display_name": "Python 3",
   "language": "python",
   "name": "python3"
  },
  "language_info": {
   "codemirror_mode": {
    "name": "ipython",
    "version": 3
   },
   "file_extension": ".py",
   "mimetype": "text/x-python",
   "name": "python",
   "nbconvert_exporter": "python",
   "pygments_lexer": "ipython3",
   "version": "3.12.6"
  }
 },
 "nbformat": 4,
 "nbformat_minor": 5
}
