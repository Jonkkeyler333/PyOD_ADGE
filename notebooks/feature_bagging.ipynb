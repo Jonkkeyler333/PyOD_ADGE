{
 "cells": [
  {
   "cell_type": "markdown",
   "id": "8e7d2200",
   "metadata": {},
   "source": [
    "# **Feature Bagging for Outlier Detection**"
   ]
  },
  {
   "cell_type": "markdown",
   "id": "c7496120",
   "metadata": {},
   "source": [
    "El algoritmo de **Feature Bagging** es una técnica de aprendizaje automático que combina múltiples modelos para mejorar la precisión y robustez de las predicciones. A diferencia del **Bagging** tradicional, que se basa en la creación de subconjuntos aleatorios de datos, el **Feature Bagging** se centra en la selección aleatoria de características (*features*) para entrenar cada modelo.\n",
    "\n",
    "\n",
    "De aqui se basa el **Feature Bagging** para la detección de anomalías o *outliers*, que utiliza múltiples modelos entrenados en subconjuntos aleatorios de características o *features* . Dado que muchas técnicas de detección de valores atípicos que calculan distancias dimensionales completas también son de naturaleza local, son sensibles a la selección de características utilizadas en el cálculo de distancias. Además, la presencia de características ruidosas e irrelevantes puede reducir significativamente el rendimiento de la detección de valores atípicos , el ensablaje de múltiples modelos entrenados en subconjuntos aleatorios de características puede ayudar a mitigar este problema , ademas , brindando dos formas de agregación de los factores de decisión mas acorde al problema"
   ]
  },
  {
   "cell_type": "markdown",
   "id": "3eb9a224",
   "metadata": {},
   "source": [
    "## Implementación\n",
    "La implementación realizada en *PyOD_ADGE* , se baso unicamente en el uso del algoritmo de *Local Outlier Factor* (*LOF*) como modelo base, pero , se debe destacar que eso no impide que se pueda extender a otros algoritmos de detección de anomalías. El algoritmo de *LOF* es un método basado en la densidad que mide la densidad local de un punto en comparación con sus vecinos cercanos. Se utiliza comúnmente para detectar puntos atípicos en conjuntos de datos multidimensionales. \n",
    "\n",
    "El modelo base , tiene tal cual sus tres modos :\n",
    "- ```classic``` : sigue el método propuesto en el paper original\n",
    "- ```optimize``` : método clasico , pero , optimizando la busqueda de *k-neighbors* paralizando el proceso\n",
    "- ```sklearn``` : utiliza el modelo de *sklearn* para la detección de anomalías ```sklearn.neighbors.LocalOutlierFactor```\n",
    "\n",
    "### Hiperparámetros\n",
    "| Parámetro         | Tipo                  | Valor por defecto | Descripción                                                                                               |\n",
    "|-------------------|-----------------------|-------------------|-----------------------------------------------------------------------------------------------------------|\n",
    "| `base_estimator`  | `str`                 | `'classic'`       | Tipo de implementació­n de LOF a usar:  `classic` = propia versión,  `sklearn` = la de scikit-learn.     |\n",
    "| `n_estimators`    | `int`                 | `10`              | Número de “sub-modelos” (estimadores) a entrenar sobre distintos subconjuntos de features.                 |\n",
    "| `contamination`   | `float`               | `0.1`             | Proporción esperada de outliers en los datos (entre 0 y 0.5).                                             |\n",
    "| `combine`         | `str`                 | `'breadth'`       | Método para combinar los scores de los estimadores:  `'breadth'` (breadth-first ranking) o `'Cumulative'`.|\n",
    "| `n_jobs`          | `int`                 | `2`               | Número de procesos paralelos para el entrenamiento (`joblib.Parallel`).                                   |\n",
    "| `random_state`    | `int` or `None`       | `None`            | Semilla inicial para el generador de números aleatorios; asegura reproducibilidad.                       |\n",
    "| `n_neighbors`     | `int`                 | `20`              | Parámetro *k* de LOF: número de vecinos a considerar para calcular la densidad local / outlier score.     |\n",
    "| `metric`          | `str`                 | `'euclidean'`     | Métrica de distancia a usar en LOF (p.ej. `'euclidean'`, `'manhattan'`, etc.).                            |\n",
    "| `metric_params`   | `dict`                | `{}`              | Parámetros adicionales específicos de la métrica (e.g. `p` para `'minkowski'`, etc.).                     |\n"
   ]
  },
  {
   "cell_type": "markdown",
   "id": "6eb05c5d",
   "metadata": {},
   "source": [
    "## Demo \n",
    "Para mostrar el funcionamiento del algoritmo , se usara el dataset [Dataset de Credit Card Fraud de Kaggle](https://www.kaggle.com/datasets/dhanushnarayananr/credit-card-fraud) , que contiene transacciones de tarjetas de crédito, donde la mayoría son transacciones legítimas y una pequeña fracción son fraudulentas. El objetivo es detectar estas transacciones fraudulentas (outliers) en función de las características de las transacciones , esto quiere decir que se pretende de una manera no supervisada obtener ```fraud```."
   ]
  },
  {
   "cell_type": "markdown",
   "id": "39ad7794",
   "metadata": {},
   "source": [
    "### Cargar librerías necesarias\n"
   ]
  },
  {
   "cell_type": "code",
   "execution_count": 1,
   "id": "ed0df1fe",
   "metadata": {},
   "outputs": [],
   "source": [
    "import numpy as np\n",
    "import matplotlib.pyplot as plt\n",
    "import seaborn as sns\n",
    "from sklearn.model_selection import train_test_split\n",
    "from sklearn.preprocessing import StandardScaler\n",
    "import pandas as pd\n",
    "import seaborn as sns\n",
    "import sys, os\n",
    "from sklearn.metrics import confusion_matrix,ConfusionMatrixDisplay\n",
    "plt.style.use('ggplot')\n",
    "sns.set_context('notebook')\n",
    "\n",
    "\n",
    "proj_root = os.path.abspath(os.path.join(os.getcwd(), os.pardir))\n",
    "if proj_root not in sys.path:\n",
    "    sys.path.insert(0, proj_root)\n",
    "    \n",
    "from PyOD_ADGE.models.feature_bagging import FeatureBagging"
   ]
  },
  {
   "cell_type": "markdown",
   "id": "519aee89",
   "metadata": {},
   "source": [
    "### Cargando el dataset\n",
    "Se tomara un muestra estratificada de 10000 filas del dataset, pero se puede usar el dataset completo sin problemas, ya que el algoritmo es escalable y no tiene problemas de memoria. "
   ]
  },
  {
   "cell_type": "code",
   "execution_count": 2,
   "id": "b7e4f94e",
   "metadata": {},
   "outputs": [
    {
     "data": {
      "application/vnd.microsoft.datawrangler.viewer.v0+json": {
       "columns": [
        {
         "name": "index",
         "rawType": "int64",
         "type": "integer"
        },
        {
         "name": "distance_from_home",
         "rawType": "float64",
         "type": "float"
        },
        {
         "name": "distance_from_last_transaction",
         "rawType": "float64",
         "type": "float"
        },
        {
         "name": "ratio_to_median_purchase_price",
         "rawType": "float64",
         "type": "float"
        },
        {
         "name": "repeat_retailer",
         "rawType": "float64",
         "type": "float"
        },
        {
         "name": "used_chip",
         "rawType": "float64",
         "type": "float"
        },
        {
         "name": "used_pin_number",
         "rawType": "float64",
         "type": "float"
        },
        {
         "name": "online_order",
         "rawType": "float64",
         "type": "float"
        },
        {
         "name": "fraud",
         "rawType": "float64",
         "type": "float"
        }
       ],
       "conversionMethod": "pd.DataFrame",
       "ref": "07c0468d-7934-4c0b-99e5-557aa8657cc4",
       "rows": [
        [
         "0",
         "57.87785658389723",
         "0.3111400080477545",
         "1.9459399775518595",
         "1.0",
         "1.0",
         "0.0",
         "0.0",
         "0.0"
        ],
        [
         "1",
         "10.829942699255543",
         "0.1755915022816658",
         "1.294218810619857",
         "1.0",
         "0.0",
         "0.0",
         "0.0",
         "0.0"
        ],
        [
         "2",
         "5.091079490616996",
         "0.8051525945853258",
         "0.4277145611942758",
         "1.0",
         "0.0",
         "0.0",
         "1.0",
         "0.0"
        ],
        [
         "3",
         "2.2475643282963613",
         "5.60004354707232",
         "0.3626625780570958",
         "1.0",
         "1.0",
         "0.0",
         "1.0",
         "0.0"
        ],
        [
         "4",
         "44.19093600261837",
         "0.5664862680583477",
         "2.2227672978404707",
         "1.0",
         "1.0",
         "0.0",
         "1.0",
         "0.0"
        ]
       ],
       "shape": {
        "columns": 8,
        "rows": 5
       }
      },
      "text/html": [
       "<div>\n",
       "<style scoped>\n",
       "    .dataframe tbody tr th:only-of-type {\n",
       "        vertical-align: middle;\n",
       "    }\n",
       "\n",
       "    .dataframe tbody tr th {\n",
       "        vertical-align: top;\n",
       "    }\n",
       "\n",
       "    .dataframe thead th {\n",
       "        text-align: right;\n",
       "    }\n",
       "</style>\n",
       "<table border=\"1\" class=\"dataframe\">\n",
       "  <thead>\n",
       "    <tr style=\"text-align: right;\">\n",
       "      <th></th>\n",
       "      <th>distance_from_home</th>\n",
       "      <th>distance_from_last_transaction</th>\n",
       "      <th>ratio_to_median_purchase_price</th>\n",
       "      <th>repeat_retailer</th>\n",
       "      <th>used_chip</th>\n",
       "      <th>used_pin_number</th>\n",
       "      <th>online_order</th>\n",
       "      <th>fraud</th>\n",
       "    </tr>\n",
       "  </thead>\n",
       "  <tbody>\n",
       "    <tr>\n",
       "      <th>0</th>\n",
       "      <td>57.877857</td>\n",
       "      <td>0.311140</td>\n",
       "      <td>1.945940</td>\n",
       "      <td>1.0</td>\n",
       "      <td>1.0</td>\n",
       "      <td>0.0</td>\n",
       "      <td>0.0</td>\n",
       "      <td>0.0</td>\n",
       "    </tr>\n",
       "    <tr>\n",
       "      <th>1</th>\n",
       "      <td>10.829943</td>\n",
       "      <td>0.175592</td>\n",
       "      <td>1.294219</td>\n",
       "      <td>1.0</td>\n",
       "      <td>0.0</td>\n",
       "      <td>0.0</td>\n",
       "      <td>0.0</td>\n",
       "      <td>0.0</td>\n",
       "    </tr>\n",
       "    <tr>\n",
       "      <th>2</th>\n",
       "      <td>5.091079</td>\n",
       "      <td>0.805153</td>\n",
       "      <td>0.427715</td>\n",
       "      <td>1.0</td>\n",
       "      <td>0.0</td>\n",
       "      <td>0.0</td>\n",
       "      <td>1.0</td>\n",
       "      <td>0.0</td>\n",
       "    </tr>\n",
       "    <tr>\n",
       "      <th>3</th>\n",
       "      <td>2.247564</td>\n",
       "      <td>5.600044</td>\n",
       "      <td>0.362663</td>\n",
       "      <td>1.0</td>\n",
       "      <td>1.0</td>\n",
       "      <td>0.0</td>\n",
       "      <td>1.0</td>\n",
       "      <td>0.0</td>\n",
       "    </tr>\n",
       "    <tr>\n",
       "      <th>4</th>\n",
       "      <td>44.190936</td>\n",
       "      <td>0.566486</td>\n",
       "      <td>2.222767</td>\n",
       "      <td>1.0</td>\n",
       "      <td>1.0</td>\n",
       "      <td>0.0</td>\n",
       "      <td>1.0</td>\n",
       "      <td>0.0</td>\n",
       "    </tr>\n",
       "  </tbody>\n",
       "</table>\n",
       "</div>"
      ],
      "text/plain": [
       "   distance_from_home  distance_from_last_transaction  \\\n",
       "0           57.877857                        0.311140   \n",
       "1           10.829943                        0.175592   \n",
       "2            5.091079                        0.805153   \n",
       "3            2.247564                        5.600044   \n",
       "4           44.190936                        0.566486   \n",
       "\n",
       "   ratio_to_median_purchase_price  repeat_retailer  used_chip  \\\n",
       "0                        1.945940              1.0        1.0   \n",
       "1                        1.294219              1.0        0.0   \n",
       "2                        0.427715              1.0        0.0   \n",
       "3                        0.362663              1.0        1.0   \n",
       "4                        2.222767              1.0        1.0   \n",
       "\n",
       "   used_pin_number  online_order  fraud  \n",
       "0              0.0           0.0    0.0  \n",
       "1              0.0           0.0    0.0  \n",
       "2              0.0           1.0    0.0  \n",
       "3              0.0           1.0    0.0  \n",
       "4              0.0           1.0    0.0  "
      ]
     },
     "execution_count": 2,
     "metadata": {},
     "output_type": "execute_result"
    }
   ],
   "source": [
    "url_data='https://drive.google.com/uc?export=download&id=1jGJ-Bam7dR9vH4Y6-677LNNpW-PulLfL'\n",
    "data=pd.read_csv(url_data,header=0)\n",
    "data.head()"
   ]
  },
  {
   "cell_type": "code",
   "execution_count": 3,
   "id": "bb0d52b1",
   "metadata": {},
   "outputs": [
    {
     "data": {
      "text/plain": [
       "(1000000, 8)"
      ]
     },
     "execution_count": 3,
     "metadata": {},
     "output_type": "execute_result"
    }
   ],
   "source": [
    "data.shape"
   ]
  },
  {
   "cell_type": "code",
   "execution_count": 4,
   "id": "5ea25188",
   "metadata": {},
   "outputs": [
    {
     "data": {
      "text/plain": [
       "fraud\n",
       "0    912597\n",
       "1     87403\n",
       "Name: count, dtype: int64"
      ]
     },
     "execution_count": 4,
     "metadata": {},
     "output_type": "execute_result"
    }
   ],
   "source": [
    "data['fraud']=data['fraud'].astype(np.int8)\n",
    "data['fraud'].value_counts()"
   ]
  },
  {
   "cell_type": "code",
   "execution_count": 5,
   "id": "edc42a1e",
   "metadata": {},
   "outputs": [],
   "source": [
    "X_f=data.drop(['fraud'],axis=1)\n",
    "y_f=data['fraud']\n",
    "X,_,y,_= train_test_split(X_f,y_f,stratify=y_f,train_size=3000,random_state=42)"
   ]
  },
  {
   "cell_type": "code",
   "execution_count": 6,
   "id": "78e8b964",
   "metadata": {},
   "outputs": [
    {
     "data": {
      "text/plain": [
       "fraud\n",
       "0    2738\n",
       "1     262\n",
       "Name: count, dtype: int64"
      ]
     },
     "execution_count": 6,
     "metadata": {},
     "output_type": "execute_result"
    }
   ],
   "source": [
    "y.value_counts()"
   ]
  },
  {
   "cell_type": "code",
   "execution_count": 7,
   "id": "ede54ed3",
   "metadata": {},
   "outputs": [],
   "source": [
    "X=StandardScaler().fit_transform(X)"
   ]
  },
  {
   "cell_type": "code",
   "execution_count": 8,
   "id": "f36330f7",
   "metadata": {},
   "outputs": [
    {
     "data": {
      "text/plain": [
       "array([ 3.84877315e-17,  2.36847579e-18,  7.99360578e-17,  5.26985862e-17,\n",
       "        4.50010399e-17, -5.68434189e-17,  2.27965794e-17])"
      ]
     },
     "execution_count": 8,
     "metadata": {},
     "output_type": "execute_result"
    }
   ],
   "source": [
    "X.mean(axis=0)"
   ]
  },
  {
   "cell_type": "markdown",
   "id": "b0d6adbd",
   "metadata": {},
   "source": [
    "### Instanciar el modelo y entrenar\n",
    "Al instanciar el modelo , el método ```fit``` se encargara de realizar el ajuste de los modelos base y el ajuste de los hiperparámetros. \n"
   ]
  },
  {
   "cell_type": "code",
   "execution_count": 9,
   "id": "ece74b52",
   "metadata": {},
   "outputs": [
    {
     "data": {
      "text/plain": [
       "(3000, 7)"
      ]
     },
     "execution_count": 9,
     "metadata": {},
     "output_type": "execute_result"
    }
   ],
   "source": [
    "X.shape"
   ]
  },
  {
   "cell_type": "markdown",
   "id": "fdb7a2c7",
   "metadata": {},
   "source": [
    "Instanciamos el modelo con los hiperparámetros deseados y ajustamos con las *features* del dataset."
   ]
  },
  {
   "cell_type": "code",
   "execution_count": 10,
   "id": "54cc5e94",
   "metadata": {},
   "outputs": [
    {
     "data": {
      "text/plain": [
       "<PyOD_ADGE.models.feature_bagging.FeatureBagging at 0x23027736660>"
      ]
     },
     "execution_count": 10,
     "metadata": {},
     "output_type": "execute_result"
    }
   ],
   "source": [
    "model=FeatureBagging(n_estimators=5,n_jobs=-1,random_state=42)\n",
    "model.fit(X)"
   ]
  },
  {
   "cell_type": "markdown",
   "id": "baf7ddf8",
   "metadata": {},
   "source": [
    "Con la propuedad ```.outlier_factor_``` , se puede obtener el *local outlier factor* de cada una de las filas del dataset, y con la propiedad , esto recordando que con el modo ```classic``` los resultados son cercanos , iguales o mayores a 1 , con el modo ```sklearn``` los resultados son cercanos a 0 ya que resultaran negativos."
   ]
  },
  {
   "cell_type": "code",
   "execution_count": 11,
   "id": "ea616838",
   "metadata": {},
   "outputs": [
    {
     "data": {
      "text/plain": [
       "array([1.00078731, 1.00969002, 0.97731671, 0.98577794, 0.97714505,\n",
       "       1.01106486, 0.99951585, 1.06451863, 1.05476186, 0.98684629,\n",
       "       1.01342764, 0.96873123, 1.00600063])"
      ]
     },
     "execution_count": 11,
     "metadata": {},
     "output_type": "execute_result"
    }
   ],
   "source": [
    "model.outlier_factor_[:13]"
   ]
  },
  {
   "cell_type": "markdown",
   "id": "fc86a56e",
   "metadata": {},
   "source": [
    "Con el método ```decision_function``` se obtiene el *label* que el algoritmo le asigna a cada fila, donde -1 es un outlier y 1 es un inlier. "
   ]
  },
  {
   "cell_type": "code",
   "execution_count": null,
   "id": "0af9b3ec",
   "metadata": {},
   "outputs": [],
   "source": [
    "ypred=model.decision_function()"
   ]
  },
  {
   "cell_type": "code",
   "execution_count": 14,
   "id": "0c867fdb",
   "metadata": {},
   "outputs": [],
   "source": [
    "ypred_cm=ypred.copy()\n",
    "ypred_cm=np.where(ypred==1,0,1)"
   ]
  },
  {
   "cell_type": "code",
   "execution_count": 15,
   "id": "6cae2a92",
   "metadata": {},
   "outputs": [
    {
     "data": {
      "text/plain": [
       "(array([0, 1]), array([2700,  300], dtype=int64))"
      ]
     },
     "execution_count": 15,
     "metadata": {},
     "output_type": "execute_result"
    }
   ],
   "source": [
    "np.unique(ypred_cm,return_counts=True)"
   ]
  },
  {
   "cell_type": "code",
   "execution_count": 16,
   "id": "7d648877",
   "metadata": {},
   "outputs": [
    {
     "data": {
      "text/plain": [
       "(array([0, 1], dtype=int8), array([2738,  262], dtype=int64))"
      ]
     },
     "execution_count": 16,
     "metadata": {},
     "output_type": "execute_result"
    }
   ],
   "source": [
    "np.unique(y,return_counts=True)"
   ]
  },
  {
   "cell_type": "code",
   "execution_count": 17,
   "id": "f38bda7d",
   "metadata": {},
   "outputs": [
    {
     "data": {
      "image/png": "[encoded data removed]",
      "text/plain": [
       "<Figure size 640x480 with 2 Axes>"
      ]
     },
     "metadata": {},
     "output_type": "display_data"
    }
   ],
   "source": [
    "cm=confusion_matrix(y,ypred_cm)\n",
    "fig,ax=plt.subplots()\n",
    "disp=ConfusionMatrixDisplay(cm,display_labels=['Normal','Fraud'])\n",
    "disp.plot(cmap='Blues',ax=ax,colorbar=True)\n",
    "ax.set_title('Confusion matrix for FeatureBagging , classic LOF')\n",
    "ax.grid(False)\n",
    "plt.show()"
   ]
  },
  {
   "cell_type": "markdown",
   "id": "2df90059",
   "metadata": {},
   "source": [
    "Ahora se prueba con el modo ```sklearn``` y el modo de combinación ```cumulative``` , ademas , aunmentando el número de estimadores a 20. "
   ]
  },
  {
   "cell_type": "code",
   "execution_count": 55,
   "id": "1be62520",
   "metadata": {},
   "outputs": [
    {
     "data": {
      "text/plain": [
       "<PyOD_ADGE.models.feature_bagging.FeatureBagging at 0x25a2d3ada30>"
      ]
     },
     "execution_count": 55,
     "metadata": {},
     "output_type": "execute_result"
    }
   ],
   "source": [
    "model2=FeatureBagging('sklearn',n_estimators=20,n_neighbors=10,combine='cumulative',metric='cosine',n_jobs=-1,random_state=42)\n",
    "model2.fit(X)"
   ]
  },
  {
   "cell_type": "markdown",
   "id": "07c7c0c6",
   "metadata": {},
   "source": [
    "El método ```cumulative``` , no devuelve el *local outlier factor* en un rango especifico , depende del número de estimadores que se usen"
   ]
  },
  {
   "cell_type": "code",
   "execution_count": 56,
   "id": "342e33dc",
   "metadata": {},
   "outputs": [
    {
     "data": {
      "text/plain": [
       "array([-22.20024034, -32.37060537, -24.86592255, -27.74295783,\n",
       "       -22.13505204, -21.99414896, -21.00263025, -24.66550341,\n",
       "       -23.61900974, -23.28449119, -23.06917738, -21.43380445,\n",
       "       -22.76761563])"
      ]
     },
     "execution_count": 56,
     "metadata": {},
     "output_type": "execute_result"
    }
   ],
   "source": [
    "model2.outlier_factor_[:13]"
   ]
  },
  {
   "cell_type": "code",
   "execution_count": 57,
   "id": "c2076c94",
   "metadata": {},
   "outputs": [],
   "source": [
    "ypred2=model2.decision_function()\n",
    "ypred2_cm=ypred2.copy()\n",
    "ypred2_cm=np.where(ypred2==1,0,1)"
   ]
  },
  {
   "cell_type": "code",
   "execution_count": 58,
   "id": "59c8852f",
   "metadata": {},
   "outputs": [
    {
     "data": {
      "text/plain": [
       "(array([0, 1]), array([2700,  300], dtype=int64))"
      ]
     },
     "execution_count": 58,
     "metadata": {},
     "output_type": "execute_result"
    }
   ],
   "source": [
    "np.unique(ypred2_cm,return_counts=True)"
   ]
  },
  {
   "cell_type": "code",
   "execution_count": 59,
   "id": "1a9c9976",
   "metadata": {},
   "outputs": [
    {
     "data": {
      "image/png": "[encoded data removed]",
      "text/plain": [
       "<Figure size 640x480 with 2 Axes>"
      ]
     },
     "metadata": {},
     "output_type": "display_data"
    }
   ],
   "source": [
    "cm2=confusion_matrix(y,ypred2_cm)\n",
    "fig,ax=plt.subplots()\n",
    "disp=ConfusionMatrixDisplay(cm2,display_labels=['Normal','Fraud'])\n",
    "disp.plot(cmap='Blues',ax=ax,colorbar=True)\n",
    "ax.set_title('Confusion matrix for FeatureBagging , sklearn LOF')\n",
    "ax.grid(False)\n",
    "plt.show()"
   ]
  }
 ],
 "metadata": {
  "kernelspec": {
   "display_name": "Python 3",
   "language": "python",
   "name": "python3"
  },
  "language_info": {
   "codemirror_mode": {
    "name": "ipython",
    "version": 3
   },
   "file_extension": ".py",
   "mimetype": "text/x-python",
   "name": "python",
   "nbconvert_exporter": "python",
   "pygments_lexer": "ipython3",
   "version": "3.12.6"
  }
 },
 "nbformat": 4,
 "nbformat_minor": 5
}
