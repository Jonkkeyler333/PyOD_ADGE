{
 "cells": [
  {
   "cell_type": "markdown",
   "id": "9107df84",
   "metadata": {},
   "source": [
    "# **Principal Component Analysis for Outlier Detection**\n"
   ]
  },
  {
   "cell_type": "markdown",
   "id": "5959bd0a",
   "metadata": {},
   "source": [
    "El Análisis de Componentes Principales (PCA) es una técnica estadística utilizada para reducir la dimensionalidad de conjuntos de datos, preservando la mayor cantidad de variabilidad posible. En el contexto de la detección de anomalías (outlier detection), el PCA se emplea para identificar observaciones que se desvían significativamente del patrón general de los datos."
   ]
  },
  {
   "cell_type": "code",
   "execution_count": 63,
   "id": "2753529c",
   "metadata": {},
   "outputs": [],
   "source": [
    "import numpy as np\n",
    "import matplotlib.pyplot as plt\n",
    "import seaborn as sns\n",
    "from sklearn.model_selection import train_test_split\n",
    "from sklearn.preprocessing import StandardScaler\n",
    "import pandas as pd\n",
    "import seaborn as sns\n",
    "import sys, os\n",
    "from sklearn.metrics import confusion_matrix,ConfusionMatrixDisplay\n",
    "plt.style.use('ggplot')\n",
    "sns.set_context('notebook')\n",
    "\n",
    "\n",
    "proj_root = os.path.abspath(os.path.join(os.getcwd(), os.pardir))\n",
    "if proj_root not in sys.path:\n",
    "    sys.path.insert(0, proj_root)\n",
    "\n",
    "from PyOD_ADGE.models.principal_component_analysis import PCA"
   ]
  },
  {
   "cell_type": "code",
   "execution_count": 64,
   "id": "4d039400",
   "metadata": {},
   "outputs": [
    {
     "data": {
      "text/html": [
       "<div>\n",
       "<style scoped>\n",
       "    .dataframe tbody tr th:only-of-type {\n",
       "        vertical-align: middle;\n",
       "    }\n",
       "\n",
       "    .dataframe tbody tr th {\n",
       "        vertical-align: top;\n",
       "    }\n",
       "\n",
       "    .dataframe thead th {\n",
       "        text-align: right;\n",
       "    }\n",
       "</style>\n",
       "<table border=\"1\" class=\"dataframe\">\n",
       "  <thead>\n",
       "    <tr style=\"text-align: right;\">\n",
       "      <th></th>\n",
       "      <th>distance_from_home</th>\n",
       "      <th>distance_from_last_transaction</th>\n",
       "      <th>ratio_to_median_purchase_price</th>\n",
       "      <th>repeat_retailer</th>\n",
       "      <th>used_chip</th>\n",
       "      <th>used_pin_number</th>\n",
       "      <th>online_order</th>\n",
       "      <th>fraud</th>\n",
       "    </tr>\n",
       "  </thead>\n",
       "  <tbody>\n",
       "    <tr>\n",
       "      <th>0</th>\n",
       "      <td>57.877857</td>\n",
       "      <td>0.311140</td>\n",
       "      <td>1.945940</td>\n",
       "      <td>1.0</td>\n",
       "      <td>1.0</td>\n",
       "      <td>0.0</td>\n",
       "      <td>0.0</td>\n",
       "      <td>0.0</td>\n",
       "    </tr>\n",
       "    <tr>\n",
       "      <th>1</th>\n",
       "      <td>10.829943</td>\n",
       "      <td>0.175592</td>\n",
       "      <td>1.294219</td>\n",
       "      <td>1.0</td>\n",
       "      <td>0.0</td>\n",
       "      <td>0.0</td>\n",
       "      <td>0.0</td>\n",
       "      <td>0.0</td>\n",
       "    </tr>\n",
       "    <tr>\n",
       "      <th>2</th>\n",
       "      <td>5.091079</td>\n",
       "      <td>0.805153</td>\n",
       "      <td>0.427715</td>\n",
       "      <td>1.0</td>\n",
       "      <td>0.0</td>\n",
       "      <td>0.0</td>\n",
       "      <td>1.0</td>\n",
       "      <td>0.0</td>\n",
       "    </tr>\n",
       "    <tr>\n",
       "      <th>3</th>\n",
       "      <td>2.247564</td>\n",
       "      <td>5.600044</td>\n",
       "      <td>0.362663</td>\n",
       "      <td>1.0</td>\n",
       "      <td>1.0</td>\n",
       "      <td>0.0</td>\n",
       "      <td>1.0</td>\n",
       "      <td>0.0</td>\n",
       "    </tr>\n",
       "    <tr>\n",
       "      <th>4</th>\n",
       "      <td>44.190936</td>\n",
       "      <td>0.566486</td>\n",
       "      <td>2.222767</td>\n",
       "      <td>1.0</td>\n",
       "      <td>1.0</td>\n",
       "      <td>0.0</td>\n",
       "      <td>1.0</td>\n",
       "      <td>0.0</td>\n",
       "    </tr>\n",
       "  </tbody>\n",
       "</table>\n",
       "</div>"
      ],
      "text/plain": [
       "   distance_from_home  distance_from_last_transaction  \\\n",
       "0           57.877857                        0.311140   \n",
       "1           10.829943                        0.175592   \n",
       "2            5.091079                        0.805153   \n",
       "3            2.247564                        5.600044   \n",
       "4           44.190936                        0.566486   \n",
       "\n",
       "   ratio_to_median_purchase_price  repeat_retailer  used_chip  \\\n",
       "0                        1.945940              1.0        1.0   \n",
       "1                        1.294219              1.0        0.0   \n",
       "2                        0.427715              1.0        0.0   \n",
       "3                        0.362663              1.0        1.0   \n",
       "4                        2.222767              1.0        1.0   \n",
       "\n",
       "   used_pin_number  online_order  fraud  \n",
       "0              0.0           0.0    0.0  \n",
       "1              0.0           0.0    0.0  \n",
       "2              0.0           1.0    0.0  \n",
       "3              0.0           1.0    0.0  \n",
       "4              0.0           1.0    0.0  "
      ]
     },
     "execution_count": 64,
     "metadata": {},
     "output_type": "execute_result"
    }
   ],
   "source": [
    "url_data='https://drive.google.com/uc?export=download&id=1jGJ-Bam7dR9vH4Y6-677LNNpW-PulLfL'\n",
    "data=pd.read_csv(url_data,header=0)\n",
    "data.head()"
   ]
  },
  {
   "cell_type": "code",
   "execution_count": 65,
   "id": "868d3afc",
   "metadata": {},
   "outputs": [
    {
     "data": {
      "text/plain": [
       "(1000000, 8)"
      ]
     },
     "execution_count": 65,
     "metadata": {},
     "output_type": "execute_result"
    }
   ],
   "source": [
    "data.shape"
   ]
  },
  {
   "cell_type": "code",
   "execution_count": 66,
   "id": "40660cd4",
   "metadata": {},
   "outputs": [
    {
     "data": {
      "text/plain": [
       "fraud\n",
       "0    912597\n",
       "1     87403\n",
       "Name: count, dtype: int64"
      ]
     },
     "execution_count": 66,
     "metadata": {},
     "output_type": "execute_result"
    }
   ],
   "source": [
    "data['fraud']=data['fraud'].astype(np.int8)\n",
    "data['fraud'].value_counts()\n"
   ]
  },
  {
   "cell_type": "code",
   "execution_count": 67,
   "id": "2750c244",
   "metadata": {},
   "outputs": [],
   "source": [
    "X_f=data.drop(['fraud'],axis=1)\n",
    "y_f=data['fraud']\n",
    "X,_,y,_= train_test_split(X_f,y_f,stratify=y_f,train_size=5000,random_state=42)"
   ]
  },
  {
   "cell_type": "code",
   "execution_count": 68,
   "id": "36713088",
   "metadata": {},
   "outputs": [
    {
     "data": {
      "text/plain": [
       "fraud\n",
       "0    4563\n",
       "1     437\n",
       "Name: count, dtype: int64"
      ]
     },
     "execution_count": 68,
     "metadata": {},
     "output_type": "execute_result"
    }
   ],
   "source": [
    "y.value_counts()"
   ]
  },
  {
   "cell_type": "code",
   "execution_count": 69,
   "id": "f7b49a82",
   "metadata": {},
   "outputs": [],
   "source": [
    "X=StandardScaler().fit_transform(X)"
   ]
  },
  {
   "cell_type": "code",
   "execution_count": 70,
   "id": "b19275c3",
   "metadata": {},
   "outputs": [
    {
     "data": {
      "text/plain": [
       "array([ 2.27373675e-17, -2.84217094e-17,  7.81597009e-18,  5.68434189e-18,\n",
       "       -6.67910172e-17, -1.56319402e-17, -5.54223334e-17])"
      ]
     },
     "execution_count": 70,
     "metadata": {},
     "output_type": "execute_result"
    }
   ],
   "source": [
    "X.mean(axis=0)"
   ]
  },
  {
   "cell_type": "code",
   "execution_count": 71,
   "id": "e276abee",
   "metadata": {},
   "outputs": [
    {
     "data": {
      "text/plain": [
       "(5000, 7)"
      ]
     },
     "execution_count": 71,
     "metadata": {},
     "output_type": "execute_result"
    }
   ],
   "source": [
    "X.shape"
   ]
  },
  {
   "cell_type": "code",
   "execution_count": 72,
   "id": "70ab8729",
   "metadata": {},
   "outputs": [
    {
     "data": {
      "text/plain": [
       "<PyOD_ADGE.models.principal_component_analysis.PCA at 0x2363a3e59d0>"
      ]
     },
     "execution_count": 72,
     "metadata": {},
     "output_type": "execute_result"
    }
   ],
   "source": [
    "model = PCA( contamination=0.01, n_components=2, random_state=42)\n",
    "model.fit(X)"
   ]
  },
  {
   "cell_type": "code",
   "execution_count": 73,
   "id": "b7fccf29",
   "metadata": {},
   "outputs": [
    {
     "data": {
      "text/plain": [
       "array([44.22489212, 34.51884423, 28.83252561, 17.49333897, 49.86461282,\n",
       "       19.07853111, 29.33264862, 17.04380987, 27.63148861, 27.7456041 ])"
      ]
     },
     "execution_count": 73,
     "metadata": {},
     "output_type": "execute_result"
    }
   ],
   "source": [
    "model.decision_scores_.shape\n",
    "model.decision_scores_[0:10]"
   ]
  },
  {
   "cell_type": "code",
   "execution_count": 74,
   "id": "47e10708",
   "metadata": {},
   "outputs": [
    {
     "name": "stdout",
     "output_type": "stream",
     "text": [
      "Threshold for 95%:  52.13923003105487\n"
     ]
    },
    {
     "data": {
      "image/png": "[encoded data removed]",
      "text/plain": [
       "<Figure size 640x480 with 2 Axes>"
      ]
     },
     "metadata": {},
     "output_type": "display_data"
    }
   ],
   "source": [
    "from sklearn.metrics import confusion_matrix\n",
    "\n",
    "scores = model.decision_function(X)\n",
    "thresh = np.percentile(model.decision_function(X), 95)\n",
    "print('Threshold for 95%: ',thresh)\n",
    "y_predcm = np.where(scores > thresh, 1, 0).astype(int)\n",
    "\n",
    "\n",
    "cm=confusion_matrix(y,y_predcm)\n",
    "fig,ax=plt.subplots()\n",
    "disp=ConfusionMatrixDisplay(cm,display_labels=['Normal','Fraud'])\n",
    "disp.plot(cmap='Blues',ax=ax,colorbar=True)\n",
    "ax.set_title('Confusion matrix for PCA , SVD auto')\n",
    "ax.grid(False)\n",
    "plt.show()"
   ]
  },
  {
   "cell_type": "code",
   "execution_count": 75,
   "id": "a972cd10",
   "metadata": {},
   "outputs": [
    {
     "data": {
      "text/plain": [
       "<PyOD_ADGE.models.principal_component_analysis.PCA at 0x236380112d0>"
      ]
     },
     "execution_count": 75,
     "metadata": {},
     "output_type": "execute_result"
    }
   ],
   "source": [
    "model2 = PCA( svd_solver=\"arpack\", n_components=3, whiten=True , random_state=42)\n",
    "model2.fit(X)"
   ]
  },
  {
   "cell_type": "code",
   "execution_count": 76,
   "id": "415eb188",
   "metadata": {},
   "outputs": [
    {
     "data": {
      "text/plain": [
       "array([74.37928698, 55.22778745, 39.98478447, 24.3531277 , 73.44823646,\n",
       "       25.89991656, 43.62395774, 23.83140532, 39.89752901, 38.70508474])"
      ]
     },
     "execution_count": 76,
     "metadata": {},
     "output_type": "execute_result"
    }
   ],
   "source": [
    "model2.decision_scores_.shape\n",
    "model2.decision_scores_[0:10]"
   ]
  },
  {
   "cell_type": "code",
   "execution_count": 77,
   "id": "6b978a19",
   "metadata": {},
   "outputs": [
    {
     "name": "stdout",
     "output_type": "stream",
     "text": [
      "Threshold for 95%:  80.14844171116694\n"
     ]
    },
    {
     "data": {
      "image/png": "[encoded data removed]",
      "text/plain": [
       "<Figure size 640x480 with 2 Axes>"
      ]
     },
     "metadata": {},
     "output_type": "display_data"
    }
   ],
   "source": [
    "from sklearn.metrics import confusion_matrix\n",
    "\n",
    "scores = model2.decision_function(X)\n",
    "thresh = np.percentile(model2.decision_function(X), 95)\n",
    "print('Threshold for 95%: ',thresh)\n",
    "y_predcm = np.where(scores > thresh, 1, 0).astype(int)\n",
    "\n",
    "\n",
    "cm=confusion_matrix(y,y_predcm)\n",
    "fig,ax=plt.subplots()\n",
    "disp=ConfusionMatrixDisplay(cm,display_labels=['Normal','Fraud'])\n",
    "disp.plot(cmap='Blues',ax=ax,colorbar=True)\n",
    "ax.set_title('Confusion matrix for PCA , SVD Full')\n",
    "ax.grid(False)\n",
    "plt.show()"
   ]
  },
  {
   "cell_type": "markdown",
   "id": "3777794f",
   "metadata": {},
   "source": [
    "# Visualizacion"
   ]
  },
  {
   "cell_type": "code",
   "execution_count": null,
   "id": "743dcadb",
   "metadata": {},
   "outputs": [
    {
     "ename": "AttributeError",
     "evalue": "'PCA' object has no attribute 'fit_transform'",
     "output_type": "error",
     "traceback": [
      "\u001b[31m---------------------------------------------------------------------------\u001b[39m",
      "\u001b[31mAttributeError\u001b[39m                            Traceback (most recent call last)",
      "\u001b[36mCell\u001b[39m\u001b[36m \u001b[39m\u001b[32mIn[80]\u001b[39m\u001b[32m, line 2\u001b[39m\n\u001b[32m      1\u001b[39m model.explained_variance_ratio_\n\u001b[32m----> \u001b[39m\u001b[32m2\u001b[39m X_2D= \u001b[43mmodel\u001b[49m\u001b[43m.\u001b[49m\u001b[43mfit_transform\u001b[49m(X)\n",
      "\u001b[31mAttributeError\u001b[39m: 'PCA' object has no attribute 'fit_transform'"
     ]
    }
   ],
   "source": [
    "model.explained_variance_ratio_\n",
    "X_2D= model.fit_transform(X)"
   ]
  },
  {
   "cell_type": "code",
   "execution_count": null,
   "id": "a735775f",
   "metadata": {},
   "outputs": [
    {
     "ename": "NameError",
     "evalue": "name 'X_2D' is not defined",
     "output_type": "error",
     "traceback": [
      "\u001b[31m---------------------------------------------------------------------------\u001b[39m",
      "\u001b[31mNameError\u001b[39m                                 Traceback (most recent call last)",
      "\u001b[36mCell\u001b[39m\u001b[36m \u001b[39m\u001b[32mIn[61]\u001b[39m\u001b[32m, line 2\u001b[39m\n\u001b[32m      1\u001b[39m fig,ax=plt.subplots()\n\u001b[32m----> \u001b[39m\u001b[32m2\u001b[39m sns.scatterplot(x=\u001b[43mX_2D\u001b[49m[:,\u001b[32m0\u001b[39m],y=X_2D[:,\u001b[32m1\u001b[39m],hue=y,ax=ax)\n\u001b[32m      3\u001b[39m ax.set_title(\u001b[33m'\u001b[39m\u001b[33mPCA of the data\u001b[39m\u001b[33m'\u001b[39m)\n\u001b[32m      4\u001b[39m plt.show()\n",
      "\u001b[31mNameError\u001b[39m: name 'X_2D' is not defined"
     ]
    },
    {
     "data": {
      "image/png": "[encoded data removed]",
      "text/plain": [
       "<Figure size 640x480 with 1 Axes>"
      ]
     },
     "metadata": {},
     "output_type": "display_data"
    }
   ],
   "source": [
    "fig,ax=plt.subplots()\n",
    "sns.scatterplot(x=X_2D[:,0],y=X_2D[:,1],hue=y,ax=ax)\n",
    "ax.set_title('PCA of the data')\n",
    "plt.show()"
   ]
  }
 ],
 "metadata": {
  "kernelspec": {
   "display_name": "Python 3",
   "language": "python",
   "name": "python3"
  },
  "language_info": {
   "codemirror_mode": {
    "name": "ipython",
    "version": 3
   },
   "file_extension": ".py",
   "mimetype": "text/x-python",
   "name": "python",
   "nbconvert_exporter": "python",
   "pygments_lexer": "ipython3",
   "version": "3.11.1"
  }
 },
 "nbformat": 4,
 "nbformat_minor": 5
}
